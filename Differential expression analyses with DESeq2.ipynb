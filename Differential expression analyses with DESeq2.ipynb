{
 "cells": [
  {
   "cell_type": "code",
   "execution_count": 1,
   "metadata": {},
   "outputs": [
    {
     "name": "stderr",
     "output_type": "stream",
     "text": [
      "Loading required package: S4Vectors\n",
      "Loading required package: stats4\n",
      "Loading required package: BiocGenerics\n",
      "Loading required package: parallel\n",
      "\n",
      "Attaching package: ‘BiocGenerics’\n",
      "\n",
      "The following objects are masked from ‘package:parallel’:\n",
      "\n",
      "    clusterApply, clusterApplyLB, clusterCall, clusterEvalQ,\n",
      "    clusterExport, clusterMap, parApply, parCapply, parLapply,\n",
      "    parLapplyLB, parRapply, parSapply, parSapplyLB\n",
      "\n",
      "The following objects are masked from ‘package:stats’:\n",
      "\n",
      "    IQR, mad, sd, var, xtabs\n",
      "\n",
      "The following objects are masked from ‘package:base’:\n",
      "\n",
      "    anyDuplicated, append, as.data.frame, cbind, colMeans, colnames,\n",
      "    colSums, do.call, duplicated, eval, evalq, Filter, Find, get, grep,\n",
      "    grepl, intersect, is.unsorted, lapply, lengths, Map, mapply, match,\n",
      "    mget, order, paste, pmax, pmax.int, pmin, pmin.int, Position, rank,\n",
      "    rbind, Reduce, rowMeans, rownames, rowSums, sapply, setdiff, sort,\n",
      "    table, tapply, union, unique, unsplit, which, which.max, which.min\n",
      "\n",
      "\n",
      "Attaching package: ‘S4Vectors’\n",
      "\n",
      "The following object is masked from ‘package:base’:\n",
      "\n",
      "    expand.grid\n",
      "\n",
      "Loading required package: IRanges\n",
      "Loading required package: GenomicRanges\n",
      "Loading required package: GenomeInfoDb\n",
      "Loading required package: SummarizedExperiment\n",
      "Loading required package: Biobase\n",
      "Welcome to Bioconductor\n",
      "\n",
      "    Vignettes contain introductory material; view with\n",
      "    'browseVignettes()'. To cite Bioconductor, see\n",
      "    'citation(\"Biobase\")', and for packages 'citation(\"pkgname\")'.\n",
      "\n",
      "Loading required package: DelayedArray\n",
      "Loading required package: matrixStats\n",
      "\n",
      "Attaching package: ‘matrixStats’\n",
      "\n",
      "The following objects are masked from ‘package:Biobase’:\n",
      "\n",
      "    anyMissing, rowMedians\n",
      "\n",
      "\n",
      "Attaching package: ‘DelayedArray’\n",
      "\n",
      "The following objects are masked from ‘package:matrixStats’:\n",
      "\n",
      "    colMaxs, colMins, colRanges, rowMaxs, rowMins, rowRanges\n",
      "\n",
      "The following object is masked from ‘package:base’:\n",
      "\n",
      "    apply\n",
      "\n",
      "\n",
      "Attaching package: ‘reshape’\n",
      "\n",
      "The following objects are masked from ‘package:S4Vectors’:\n",
      "\n",
      "    expand, rename\n",
      "\n",
      "\n",
      "Attaching package: ‘plotly’\n",
      "\n",
      "The following object is masked from ‘package:reshape’:\n",
      "\n",
      "    rename\n",
      "\n",
      "The following object is masked from ‘package:ggplot2’:\n",
      "\n",
      "    last_plot\n",
      "\n",
      "The following object is masked from ‘package:IRanges’:\n",
      "\n",
      "    slice\n",
      "\n",
      "The following object is masked from ‘package:S4Vectors’:\n",
      "\n",
      "    rename\n",
      "\n",
      "The following object is masked from ‘package:stats’:\n",
      "\n",
      "    filter\n",
      "\n",
      "The following object is masked from ‘package:graphics’:\n",
      "\n",
      "    layout\n",
      "\n",
      "\n",
      "Attaching package: ‘gridExtra’\n",
      "\n",
      "The following object is masked from ‘package:Biobase’:\n",
      "\n",
      "    combine\n",
      "\n",
      "The following object is masked from ‘package:BiocGenerics’:\n",
      "\n",
      "    combine\n",
      "\n",
      "\n",
      "Attaching package: ‘plyr’\n",
      "\n",
      "The following objects are masked from ‘package:plotly’:\n",
      "\n",
      "    arrange, mutate, rename, summarise\n",
      "\n",
      "The following objects are masked from ‘package:reshape’:\n",
      "\n",
      "    rename, round_any\n",
      "\n",
      "The following object is masked from ‘package:matrixStats’:\n",
      "\n",
      "    count\n",
      "\n",
      "The following object is masked from ‘package:IRanges’:\n",
      "\n",
      "    desc\n",
      "\n",
      "The following object is masked from ‘package:S4Vectors’:\n",
      "\n",
      "    rename\n",
      "\n",
      "Loading required package: futile.logger\n"
     ]
    }
   ],
   "source": [
    "library(\"DESeq2\")\n",
    "library(\"pheatmap\")\n",
    "library(\"ggplot2\")\n",
    "library(\"reshape\")\n",
    "library(\"plotly\")\n",
    "library(\"grid\")\n",
    "library(\"gridExtra\")\n",
    "library(\"plyr\")\n",
    "library(\"VennDiagram\")"
   ]
  },
  {
   "cell_type": "code",
   "execution_count": 2,
   "metadata": {
    "collapsed": true
   },
   "outputs": [],
   "source": [
    "# Multiple plot function\n",
    "#\n",
    "# ggplot objects can be passed in ..., or to plotlist (as a list of ggplot objects)\n",
    "# - cols:   Number of columns in layout\n",
    "# - layout: A matrix specifying the layout. If present, 'cols' is ignored.\n",
    "#\n",
    "# If the layout is something like matrix(c(1,2,3,3), nrow=2, byrow=TRUE),\n",
    "# then plot 1 will go in the upper left, 2 will go in the upper right, and\n",
    "# 3 will go all the way across the bottom.\n",
    "#\n",
    "multiplot <- function(..., plotlist=NULL, file, cols=1, layout=NULL) {\n",
    "  library(grid)\n",
    "\n",
    "  # Make a list from the ... arguments and plotlist\n",
    "  plots <- c(list(...), plotlist)\n",
    "\n",
    "  numPlots = length(plots)\n",
    "\n",
    "  # If layout is NULL, then use 'cols' to determine layout\n",
    "  if (is.null(layout)) {\n",
    "    # Make the panel\n",
    "    # ncol: Number of columns of plots\n",
    "    # nrow: Number of rows needed, calculated from # of cols\n",
    "    layout <- matrix(seq(1, cols * ceiling(numPlots/cols)),\n",
    "                    ncol = cols, nrow = ceiling(numPlots/cols))\n",
    "  }\n",
    "\n",
    " if (numPlots==1) {\n",
    "    print(plots[[1]])\n",
    "\n",
    "  } else {\n",
    "    # Set up the page\n",
    "    grid.newpage()\n",
    "    pushViewport(viewport(layout = grid.layout(nrow(layout), ncol(layout))))\n",
    "\n",
    "    # Make each plot, in the correct location\n",
    "    for (i in 1:numPlots) {\n",
    "      # Get the i,j matrix positions of the regions that contain this subplot\n",
    "      matchidx <- as.data.frame(which(layout == i, arr.ind = TRUE))\n",
    "\n",
    "      print(plots[[i]], vp = viewport(layout.pos.row = matchidx$row,\n",
    "                                      layout.pos.col = matchidx$col))\n",
    "    }\n",
    "  }\n",
    "}"
   ]
  },
  {
   "cell_type": "markdown",
   "metadata": {},
   "source": [
    "# Import data\n",
    "\n",
    "Here, I import the un-normalized read counts from StringTie output as a count matrix for DESeq2.\n",
    "\n",
    "First, import the gene counts as a matrix:"
   ]
  },
  {
   "cell_type": "code",
   "execution_count": 3,
   "metadata": {},
   "outputs": [
    {
     "data": {
      "text/html": [
       "<table>\n",
       "<thead><tr><th></th><th scope=col>R1C24A</th><th scope=col>R1C24B</th><th scope=col>R1C24C</th><th scope=col>R1C24D</th><th scope=col>R1C48A</th><th scope=col>R1C48B</th><th scope=col>R1C48C</th><th scope=col>R1C48D</th><th scope=col>R1C72A</th><th scope=col>R1C72B</th><th scope=col>⋯</th><th scope=col>S2Q24C</th><th scope=col>S2Q24D</th><th scope=col>S2Q48A</th><th scope=col>S2Q48B</th><th scope=col>S2Q48C</th><th scope=col>S2Q48D</th><th scope=col>S2Q72A</th><th scope=col>S2Q72B</th><th scope=col>S2Q72C</th><th scope=col>S2Q72D</th></tr></thead>\n",
       "<tbody>\n",
       "\t<tr><th scope=row>1</th><td>  26</td><td>  24</td><td>  22</td><td>  22</td><td>  21</td><td>  21</td><td>  27</td><td>  25</td><td>  25</td><td>  36</td><td>⋯   </td><td>  17</td><td>  12</td><td>  16</td><td>  13</td><td>  19</td><td>  20</td><td>   0</td><td>  12</td><td>  19</td><td>  15</td></tr>\n",
       "\t<tr><th scope=row>2</th><td>1849</td><td>1981</td><td>1858</td><td>1955</td><td>2183</td><td>2243</td><td>2156</td><td>2372</td><td>3410</td><td>3571</td><td>⋯   </td><td>1986</td><td>1981</td><td>2208</td><td>2191</td><td>2095</td><td>2229</td><td>2013</td><td>2226</td><td>2125</td><td>2244</td></tr>\n",
       "\t<tr><th scope=row>3</th><td>  17</td><td>  30</td><td>   0</td><td>  27</td><td>  12</td><td>  21</td><td>   1</td><td>  17</td><td>  10</td><td>  44</td><td>⋯   </td><td>   3</td><td>  10</td><td>  20</td><td>   0</td><td>  10</td><td>  10</td><td>   2</td><td>   9</td><td>   7</td><td>  13</td></tr>\n",
       "\t<tr><th scope=row>4</th><td>  78</td><td>  32</td><td>  52</td><td>  42</td><td>  26</td><td>  25</td><td>  55</td><td>  15</td><td>  48</td><td>  27</td><td>⋯   </td><td>  37</td><td>   0</td><td>  29</td><td>  55</td><td>  27</td><td>  23</td><td>  36</td><td>  32</td><td>  11</td><td>  33</td></tr>\n",
       "\t<tr><th scope=row>5</th><td>  55</td><td>  54</td><td>  36</td><td>  80</td><td>  59</td><td>  44</td><td>  52</td><td>  67</td><td> 145</td><td> 119</td><td>⋯   </td><td> 158</td><td> 170</td><td> 199</td><td> 177</td><td> 182</td><td> 182</td><td> 155</td><td> 185</td><td> 176</td><td> 182</td></tr>\n",
       "\t<tr><th scope=row>6</th><td> 426</td><td> 357</td><td> 515</td><td> 597</td><td> 631</td><td> 588</td><td> 590</td><td> 604</td><td> 881</td><td> 576</td><td>⋯   </td><td> 690</td><td> 495</td><td> 638</td><td> 615</td><td> 593</td><td> 631</td><td> 672</td><td> 529</td><td> 672</td><td> 621</td></tr>\n",
       "</tbody>\n",
       "</table>\n"
      ],
      "text/latex": [
       "\\begin{tabular}{r|lllllllllllllllllllllllllllllllllllllllllllllllllllllllllllllllllllllllllllllllllllllllllllllll}\n",
       "  & R1C24A & R1C24B & R1C24C & R1C24D & R1C48A & R1C48B & R1C48C & R1C48D & R1C72A & R1C72B & ⋯ & S2Q24C & S2Q24D & S2Q48A & S2Q48B & S2Q48C & S2Q48D & S2Q72A & S2Q72B & S2Q72C & S2Q72D\\\\\n",
       "\\hline\n",
       "\t1 &   26 &   24 &   22 &   22 &   21 &   21 &   27 &   25 &   25 &   36 & ⋯    &   17 &   12 &   16 &   13 &   19 &   20 &    0 &   12 &   19 &   15\\\\\n",
       "\t2 & 1849 & 1981 & 1858 & 1955 & 2183 & 2243 & 2156 & 2372 & 3410 & 3571 & ⋯    & 1986 & 1981 & 2208 & 2191 & 2095 & 2229 & 2013 & 2226 & 2125 & 2244\\\\\n",
       "\t3 &   17 &   30 &    0 &   27 &   12 &   21 &    1 &   17 &   10 &   44 & ⋯    &    3 &   10 &   20 &    0 &   10 &   10 &    2 &    9 &    7 &   13\\\\\n",
       "\t4 &   78 &   32 &   52 &   42 &   26 &   25 &   55 &   15 &   48 &   27 & ⋯    &   37 &    0 &   29 &   55 &   27 &   23 &   36 &   32 &   11 &   33\\\\\n",
       "\t5 &   55 &   54 &   36 &   80 &   59 &   44 &   52 &   67 &  145 &  119 & ⋯    &  158 &  170 &  199 &  177 &  182 &  182 &  155 &  185 &  176 &  182\\\\\n",
       "\t6 &  426 &  357 &  515 &  597 &  631 &  588 &  590 &  604 &  881 &  576 & ⋯    &  690 &  495 &  638 &  615 &  593 &  631 &  672 &  529 &  672 &  621\\\\\n",
       "\\end{tabular}\n"
      ],
      "text/markdown": [
       "\n",
       "| <!--/--> | R1C24A | R1C24B | R1C24C | R1C24D | R1C48A | R1C48B | R1C48C | R1C48D | R1C72A | R1C72B | ⋯ | S2Q24C | S2Q24D | S2Q48A | S2Q48B | S2Q48C | S2Q48D | S2Q72A | S2Q72B | S2Q72C | S2Q72D | \n",
       "|---|---|---|---|---|---|\n",
       "| 1 |   26 |   24 |   22 |   22 |   21 |   21 |   27 |   25 |   25 |   36 | ⋯    |   17 |   12 |   16 |   13 |   19 |   20 |    0 |   12 |   19 |   15 | \n",
       "| 2 | 1849 | 1981 | 1858 | 1955 | 2183 | 2243 | 2156 | 2372 | 3410 | 3571 | ⋯    | 1986 | 1981 | 2208 | 2191 | 2095 | 2229 | 2013 | 2226 | 2125 | 2244 | \n",
       "| 3 |   17 |   30 |    0 |   27 |   12 |   21 |    1 |   17 |   10 |   44 | ⋯    |    3 |   10 |   20 |    0 |   10 |   10 |    2 |    9 |    7 |   13 | \n",
       "| 4 |   78 |   32 |   52 |   42 |   26 |   25 |   55 |   15 |   48 |   27 | ⋯    |   37 |    0 |   29 |   55 |   27 |   23 |   36 |   32 |   11 |   33 | \n",
       "| 5 |   55 |   54 |   36 |   80 |   59 |   44 |   52 |   67 |  145 |  119 | ⋯    |  158 |  170 |  199 |  177 |  182 |  182 |  155 |  185 |  176 |  182 | \n",
       "| 6 |  426 |  357 |  515 |  597 |  631 |  588 |  590 |  604 |  881 |  576 | ⋯    |  690 |  495 |  638 |  615 |  593 |  631 |  672 |  529 |  672 |  621 | \n",
       "\n",
       "\n"
      ],
      "text/plain": [
       "  R1C24A R1C24B R1C24C R1C24D R1C48A R1C48B R1C48C R1C48D R1C72A R1C72B ⋯\n",
       "1   26     24     22     22     21     21     27     25     25     36   ⋯\n",
       "2 1849   1981   1858   1955   2183   2243   2156   2372   3410   3571   ⋯\n",
       "3   17     30      0     27     12     21      1     17     10     44   ⋯\n",
       "4   78     32     52     42     26     25     55     15     48     27   ⋯\n",
       "5   55     54     36     80     59     44     52     67    145    119   ⋯\n",
       "6  426    357    515    597    631    588    590    604    881    576   ⋯\n",
       "  S2Q24C S2Q24D S2Q48A S2Q48B S2Q48C S2Q48D S2Q72A S2Q72B S2Q72C S2Q72D\n",
       "1   17     12     16     13     19     20      0     12     19     15  \n",
       "2 1986   1981   2208   2191   2095   2229   2013   2226   2125   2244  \n",
       "3    3     10     20      0     10     10      2      9      7     13  \n",
       "4   37      0     29     55     27     23     36     32     11     33  \n",
       "5  158    170    199    177    182    182    155    185    176    182  \n",
       "6  690    495    638    615    593    631    672    529    672    621  "
      ]
     },
     "metadata": {},
     "output_type": "display_data"
    }
   ],
   "source": [
    "c <- read.csv(\"gene_count_matrix_sorted.csv\", row.names=1)\n",
    "gcts <- as.matrix(c)\n",
    "head(gcts)"
   ]
  },
  {
   "cell_type": "markdown",
   "metadata": {},
   "source": [
    "Now the same but for the transcript counts:"
   ]
  },
  {
   "cell_type": "code",
   "execution_count": 4,
   "metadata": {},
   "outputs": [
    {
     "data": {
      "text/html": [
       "<table>\n",
       "<thead><tr><th></th><th scope=col>R1C24A</th><th scope=col>R1C24B</th><th scope=col>R1C24C</th><th scope=col>R1C24D</th><th scope=col>R1C48A</th><th scope=col>R1C48B</th><th scope=col>R1C48C</th><th scope=col>R1C48D</th><th scope=col>R1C72A</th><th scope=col>R1C72B</th><th scope=col>⋯</th><th scope=col>S2Q24C</th><th scope=col>S2Q24D</th><th scope=col>S2Q48A</th><th scope=col>S2Q48B</th><th scope=col>S2Q48C</th><th scope=col>S2Q48D</th><th scope=col>S2Q72A</th><th scope=col>S2Q72B</th><th scope=col>S2Q72C</th><th scope=col>S2Q72D</th></tr></thead>\n",
       "<tbody>\n",
       "\t<tr><th scope=row>MSTRG.9396.8</th><td>   0</td><td>   0</td><td>   0</td><td>   0</td><td> 16 </td><td>  0 </td><td>  0 </td><td>  0 </td><td>   5</td><td>  51</td><td>⋯   </td><td>  3 </td><td>  6 </td><td>  6 </td><td>  5 </td><td> 39 </td><td>  2 </td><td>  0 </td><td> 37 </td><td>  0 </td><td> 98 </td></tr>\n",
       "\t<tr><th scope=row>MSTRG.22509.1</th><td>   5</td><td>   2</td><td>   3</td><td>   2</td><td>  6 </td><td>  5 </td><td>  2 </td><td>  6 </td><td>   6</td><td>   7</td><td>⋯   </td><td> 10 </td><td> 22 </td><td> 19 </td><td> 19 </td><td> 14 </td><td> 13 </td><td> 22 </td><td> 20 </td><td> 10 </td><td> 21 </td></tr>\n",
       "\t<tr><th scope=row>MSTRG.2044.1</th><td>   0</td><td>   0</td><td>   0</td><td>   0</td><td>  0 </td><td>  0 </td><td>  0 </td><td>  0 </td><td>   0</td><td>   0</td><td>⋯   </td><td>  0 </td><td>  0 </td><td> 13 </td><td>  0 </td><td>  4 </td><td>  1 </td><td>  0 </td><td>  1 </td><td>  5 </td><td>  5 </td></tr>\n",
       "\t<tr><th scope=row>MSTRG.12668.1</th><td>1246</td><td>1183</td><td>1218</td><td>1168</td><td>824 </td><td>829 </td><td>816 </td><td>869 </td><td>1212</td><td>1287</td><td>⋯   </td><td>806 </td><td>908 </td><td>715 </td><td>657 </td><td>721 </td><td>669 </td><td>679 </td><td>689 </td><td>661 </td><td>654 </td></tr>\n",
       "\t<tr><th scope=row>MSTRG.18752.1</th><td> 297</td><td> 281</td><td> 313</td><td> 283</td><td>254 </td><td>225 </td><td>198 </td><td>182 </td><td> 295</td><td> 342</td><td>⋯   </td><td>398 </td><td>414 </td><td>359 </td><td>318 </td><td>313 </td><td>329 </td><td>317 </td><td>321 </td><td>358 </td><td>368 </td></tr>\n",
       "\t<tr><th scope=row>MSTRG.8651.1</th><td>   0</td><td>   0</td><td>   2</td><td>   2</td><td>  0 </td><td>  8 </td><td>  2 </td><td>  5 </td><td>   3</td><td>   6</td><td>⋯   </td><td>  7 </td><td>  3 </td><td>  0 </td><td>  0 </td><td>  0 </td><td>  3 </td><td>  4 </td><td>  2 </td><td>  3 </td><td>  3 </td></tr>\n",
       "</tbody>\n",
       "</table>\n"
      ],
      "text/latex": [
       "\\begin{tabular}{r|lllllllllllllllllllllllllllllllllllllllllllllllllllllllllllllllllllllllllllllllllllllllllllllll}\n",
       "  & R1C24A & R1C24B & R1C24C & R1C24D & R1C48A & R1C48B & R1C48C & R1C48D & R1C72A & R1C72B & ⋯ & S2Q24C & S2Q24D & S2Q48A & S2Q48B & S2Q48C & S2Q48D & S2Q72A & S2Q72B & S2Q72C & S2Q72D\\\\\n",
       "\\hline\n",
       "\tMSTRG.9396.8 &    0 &    0 &    0 &    0 &  16  &   0  &   0  &   0  &    5 &   51 & ⋯    &   3  &   6  &   6  &   5  &  39  &   2  &   0  &  37  &   0  &  98 \\\\\n",
       "\tMSTRG.22509.1 &    5 &    2 &    3 &    2 &   6  &   5  &   2  &   6  &    6 &    7 & ⋯    &  10  &  22  &  19  &  19  &  14  &  13  &  22  &  20  &  10  &  21 \\\\\n",
       "\tMSTRG.2044.1 &    0 &    0 &    0 &    0 &   0  &   0  &   0  &   0  &    0 &    0 & ⋯    &   0  &   0  &  13  &   0  &   4  &   1  &   0  &   1  &   5  &   5 \\\\\n",
       "\tMSTRG.12668.1 & 1246 & 1183 & 1218 & 1168 & 824  & 829  & 816  & 869  & 1212 & 1287 & ⋯    & 806  & 908  & 715  & 657  & 721  & 669  & 679  & 689  & 661  & 654 \\\\\n",
       "\tMSTRG.18752.1 &  297 &  281 &  313 &  283 & 254  & 225  & 198  & 182  &  295 &  342 & ⋯    & 398  & 414  & 359  & 318  & 313  & 329  & 317  & 321  & 358  & 368 \\\\\n",
       "\tMSTRG.8651.1 &    0 &    0 &    2 &    2 &   0  &   8  &   2  &   5  &    3 &    6 & ⋯    &   7  &   3  &   0  &   0  &   0  &   3  &   4  &   2  &   3  &   3 \\\\\n",
       "\\end{tabular}\n"
      ],
      "text/markdown": [
       "\n",
       "| <!--/--> | R1C24A | R1C24B | R1C24C | R1C24D | R1C48A | R1C48B | R1C48C | R1C48D | R1C72A | R1C72B | ⋯ | S2Q24C | S2Q24D | S2Q48A | S2Q48B | S2Q48C | S2Q48D | S2Q72A | S2Q72B | S2Q72C | S2Q72D | \n",
       "|---|---|---|---|---|---|\n",
       "| MSTRG.9396.8 |    0 |    0 |    0 |    0 |  16  |   0  |   0  |   0  |    5 |   51 | ⋯    |   3  |   6  |   6  |   5  |  39  |   2  |   0  |  37  |   0  |  98  | \n",
       "| MSTRG.22509.1 |    5 |    2 |    3 |    2 |   6  |   5  |   2  |   6  |    6 |    7 | ⋯    |  10  |  22  |  19  |  19  |  14  |  13  |  22  |  20  |  10  |  21  | \n",
       "| MSTRG.2044.1 |    0 |    0 |    0 |    0 |   0  |   0  |   0  |   0  |    0 |    0 | ⋯    |   0  |   0  |  13  |   0  |   4  |   1  |   0  |   1  |   5  |   5  | \n",
       "| MSTRG.12668.1 | 1246 | 1183 | 1218 | 1168 | 824  | 829  | 816  | 869  | 1212 | 1287 | ⋯    | 806  | 908  | 715  | 657  | 721  | 669  | 679  | 689  | 661  | 654  | \n",
       "| MSTRG.18752.1 |  297 |  281 |  313 |  283 | 254  | 225  | 198  | 182  |  295 |  342 | ⋯    | 398  | 414  | 359  | 318  | 313  | 329  | 317  | 321  | 358  | 368  | \n",
       "| MSTRG.8651.1 |    0 |    0 |    2 |    2 |   0  |   8  |   2  |   5  |    3 |    6 | ⋯    |   7  |   3  |   0  |   0  |   0  |   3  |   4  |   2  |   3  |   3  | \n",
       "\n",
       "\n"
      ],
      "text/plain": [
       "              R1C24A R1C24B R1C24C R1C24D R1C48A R1C48B R1C48C R1C48D R1C72A\n",
       "MSTRG.9396.8     0      0      0      0    16      0      0      0       5  \n",
       "MSTRG.22509.1    5      2      3      2     6      5      2      6       6  \n",
       "MSTRG.2044.1     0      0      0      0     0      0      0      0       0  \n",
       "MSTRG.12668.1 1246   1183   1218   1168   824    829    816    869    1212  \n",
       "MSTRG.18752.1  297    281    313    283   254    225    198    182     295  \n",
       "MSTRG.8651.1     0      0      2      2     0      8      2      5       3  \n",
       "              R1C72B ⋯ S2Q24C S2Q24D S2Q48A S2Q48B S2Q48C S2Q48D S2Q72A S2Q72B\n",
       "MSTRG.9396.8    51   ⋯   3      6      6      5     39      2      0     37   \n",
       "MSTRG.22509.1    7   ⋯  10     22     19     19     14     13     22     20   \n",
       "MSTRG.2044.1     0   ⋯   0      0     13      0      4      1      0      1   \n",
       "MSTRG.12668.1 1287   ⋯ 806    908    715    657    721    669    679    689   \n",
       "MSTRG.18752.1  342   ⋯ 398    414    359    318    313    329    317    321   \n",
       "MSTRG.8651.1     6   ⋯   7      3      0      0      0      3      4      2   \n",
       "              S2Q72C S2Q72D\n",
       "MSTRG.9396.8    0     98   \n",
       "MSTRG.22509.1  10     21   \n",
       "MSTRG.2044.1    5      5   \n",
       "MSTRG.12668.1 661    654   \n",
       "MSTRG.18752.1 358    368   \n",
       "MSTRG.8651.1    3      3   "
      ]
     },
     "metadata": {},
     "output_type": "display_data"
    }
   ],
   "source": [
    "c <- read.csv(\"transcript_count_matrix.csv\", row.names=1)\n",
    "tcts <- as.matrix(c)\n",
    "head(tcts)"
   ]
  },
  {
   "cell_type": "markdown",
   "metadata": {},
   "source": [
    "Finally, I create the sample the sample information table as a data frame:"
   ]
  },
  {
   "cell_type": "code",
   "execution_count": 5,
   "metadata": {},
   "outputs": [
    {
     "data": {
      "text/html": [
       "<table>\n",
       "<thead><tr><th></th><th scope=col>exp</th><th scope=col>cond</th><th scope=col>hpi</th><th scope=col>rep_bio</th><th scope=col>rep_tec</th></tr></thead>\n",
       "<tbody>\n",
       "\t<tr><th scope=row>R1C24A</th><td>R  </td><td>C  </td><td>24h</td><td>1  </td><td>1  </td></tr>\n",
       "\t<tr><th scope=row>R1C24B</th><td>R  </td><td>C  </td><td>24h</td><td>1  </td><td>1  </td></tr>\n",
       "\t<tr><th scope=row>R1C24C</th><td>R  </td><td>C  </td><td>24h</td><td>1  </td><td>1  </td></tr>\n",
       "\t<tr><th scope=row>R1C24D</th><td>R  </td><td>C  </td><td>24h</td><td>1  </td><td>1  </td></tr>\n",
       "\t<tr><th scope=row>R1C48A</th><td>R  </td><td>C  </td><td>48h</td><td>1  </td><td>2  </td></tr>\n",
       "\t<tr><th scope=row>R1C48B</th><td>R  </td><td>C  </td><td>48h</td><td>1  </td><td>2  </td></tr>\n",
       "</tbody>\n",
       "</table>\n"
      ],
      "text/latex": [
       "\\begin{tabular}{r|lllll}\n",
       "  & exp & cond & hpi & rep\\_bio & rep\\_tec\\\\\n",
       "\\hline\n",
       "\tR1C24A & R   & C   & 24h & 1   & 1  \\\\\n",
       "\tR1C24B & R   & C   & 24h & 1   & 1  \\\\\n",
       "\tR1C24C & R   & C   & 24h & 1   & 1  \\\\\n",
       "\tR1C24D & R   & C   & 24h & 1   & 1  \\\\\n",
       "\tR1C48A & R   & C   & 48h & 1   & 2  \\\\\n",
       "\tR1C48B & R   & C   & 48h & 1   & 2  \\\\\n",
       "\\end{tabular}\n"
      ],
      "text/markdown": [
       "\n",
       "| <!--/--> | exp | cond | hpi | rep_bio | rep_tec | \n",
       "|---|---|---|---|---|---|\n",
       "| R1C24A | R   | C   | 24h | 1   | 1   | \n",
       "| R1C24B | R   | C   | 24h | 1   | 1   | \n",
       "| R1C24C | R   | C   | 24h | 1   | 1   | \n",
       "| R1C24D | R   | C   | 24h | 1   | 1   | \n",
       "| R1C48A | R   | C   | 48h | 1   | 2   | \n",
       "| R1C48B | R   | C   | 48h | 1   | 2   | \n",
       "\n",
       "\n"
      ],
      "text/plain": [
       "       exp cond hpi rep_bio rep_tec\n",
       "R1C24A R   C    24h 1       1      \n",
       "R1C24B R   C    24h 1       1      \n",
       "R1C24C R   C    24h 1       1      \n",
       "R1C24D R   C    24h 1       1      \n",
       "R1C48A R   C    48h 1       2      \n",
       "R1C48B R   C    48h 1       2      "
      ]
     },
     "metadata": {},
     "output_type": "display_data"
    }
   ],
   "source": [
    "colcols <- c(\"exp\", \"cond\", \"hpi\", \"rep_bio\", \"rep_tec\")\n",
    "\n",
    "coldata <- read.csv(\"pheno_data.csv\", row.names=1, strip.white=T)\n",
    "coldata <- coldata[, colcols]\n",
    "\n",
    "# Correct the technical replicate column for later collapsing\n",
    "coldata$rep_tec <- c(rep(1:4, each=4), c(5,5,5), rep(6:24, each=4))\n",
    "head(coldata)"
   ]
  },
  {
   "cell_type": "markdown",
   "metadata": {},
   "source": [
    "Just checking for consistency between the rows of the sample information table and the columns in the count matrices."
   ]
  },
  {
   "cell_type": "code",
   "execution_count": 6,
   "metadata": {},
   "outputs": [
    {
     "data": {
      "text/html": [
       "TRUE"
      ],
      "text/latex": [
       "TRUE"
      ],
      "text/markdown": [
       "TRUE"
      ],
      "text/plain": [
       "[1] TRUE"
      ]
     },
     "metadata": {},
     "output_type": "display_data"
    },
    {
     "data": {
      "text/html": [
       "TRUE"
      ],
      "text/latex": [
       "TRUE"
      ],
      "text/markdown": [
       "TRUE"
      ],
      "text/plain": [
       "[1] TRUE"
      ]
     },
     "metadata": {},
     "output_type": "display_data"
    }
   ],
   "source": [
    "# Check with the gene counts\n",
    "all(rownames(coldata) %in% colnames(gcts))\n",
    "# Check with the transcript counts\n",
    "all(rownames(coldata) %in% colnames(tcts))"
   ]
  },
  {
   "cell_type": "markdown",
   "metadata": {},
   "source": [
    "Finally, the DESeqDataSet objects can be created. "
   ]
  },
  {
   "cell_type": "code",
   "execution_count": 7,
   "metadata": {},
   "outputs": [
    {
     "data": {
      "text/plain": [
       "      Length        Class         Mode \n",
       "       24413 DESeqDataSet           S4 "
      ]
     },
     "metadata": {},
     "output_type": "display_data"
    },
    {
     "data": {
      "text/plain": [
       "      Length        Class         Mode \n",
       "       55493 DESeqDataSet           S4 "
      ]
     },
     "metadata": {},
     "output_type": "display_data"
    }
   ],
   "source": [
    "gdds <- DESeqDataSetFromMatrix(countData = gcts,\n",
    "                               colData = coldata,\n",
    "                               design = ~ cond)\n",
    "tdds <- DESeqDataSetFromMatrix(countData = tcts,\n",
    "                               colData = coldata,\n",
    "                               design = ~ cond)\n",
    "summary(gdds)\n",
    "summary(tdds)"
   ]
  },
  {
   "cell_type": "markdown",
   "metadata": {},
   "source": [
    "I'll also load an annotations file containing the information of chromosome and position for each gene id"
   ]
  },
  {
   "cell_type": "code",
   "execution_count": 8,
   "metadata": {},
   "outputs": [
    {
     "data": {
      "text/html": [
       "<table>\n",
       "<thead><tr><th scope=col>gene_id</th><th scope=col>chr</th><th scope=col>g_star</th><th scope=col>g_end</th></tr></thead>\n",
       "<tbody>\n",
       "\t<tr><td>1     </td><td>0     </td><td> 29755</td><td> 30541</td></tr>\n",
       "\t<tr><td>2     </td><td>0     </td><td> 68426</td><td> 86044</td></tr>\n",
       "\t<tr><td>3     </td><td>0     </td><td> 97938</td><td> 99413</td></tr>\n",
       "\t<tr><td>4     </td><td>0     </td><td> 98077</td><td>101005</td></tr>\n",
       "\t<tr><td>5     </td><td>0     </td><td>182612</td><td>193163</td></tr>\n",
       "\t<tr><td>6     </td><td>0     </td><td>196283</td><td>206073</td></tr>\n",
       "</tbody>\n",
       "</table>\n"
      ],
      "text/latex": [
       "\\begin{tabular}{r|llll}\n",
       " gene\\_id & chr & g\\_star & g\\_end\\\\\n",
       "\\hline\n",
       "\t 1      & 0      &  29755 &  30541\\\\\n",
       "\t 2      & 0      &  68426 &  86044\\\\\n",
       "\t 3      & 0      &  97938 &  99413\\\\\n",
       "\t 4      & 0      &  98077 & 101005\\\\\n",
       "\t 5      & 0      & 182612 & 193163\\\\\n",
       "\t 6      & 0      & 196283 & 206073\\\\\n",
       "\\end{tabular}\n"
      ],
      "text/markdown": [
       "\n",
       "gene_id | chr | g_star | g_end | \n",
       "|---|---|---|---|---|---|\n",
       "| 1      | 0      |  29755 |  30541 | \n",
       "| 2      | 0      |  68426 |  86044 | \n",
       "| 3      | 0      |  97938 |  99413 | \n",
       "| 4      | 0      |  98077 | 101005 | \n",
       "| 5      | 0      | 182612 | 193163 | \n",
       "| 6      | 0      | 196283 | 206073 | \n",
       "\n",
       "\n"
      ],
      "text/plain": [
       "  gene_id chr g_star g_end \n",
       "1 1       0    29755  30541\n",
       "2 2       0    68426  86044\n",
       "3 3       0    97938  99413\n",
       "4 4       0    98077 101005\n",
       "5 5       0   182612 193163\n",
       "6 6       0   196283 206073"
      ]
     },
     "metadata": {},
     "output_type": "display_data"
    }
   ],
   "source": [
    "annot <- read.csv(\"annotations.txt\", header=F)\n",
    "colnames(annot) <- c(\"gene_id\", \"chr\", \"g_star\", \"g_end\")\n",
    "# Re-order annotation gene_ids according to the order in the data set\n",
    "annot <- annot[match(rownames(gdds), annot$gene_id),]\n",
    "head(annot)"
   ]
  },
  {
   "cell_type": "markdown",
   "metadata": {},
   "source": [
    "# Collapse technical replicates"
   ]
  },
  {
   "cell_type": "markdown",
   "metadata": {},
   "source": [
    "DESeq2 provides a function collapseReplicates which can assist in combining the counts from technical replicates into single columns of the count matrix. The term technical replicate implies multiple sequencing runs of the same library."
   ]
  },
  {
   "cell_type": "code",
   "execution_count": 9,
   "metadata": {
    "collapsed": true
   },
   "outputs": [],
   "source": [
    "gdds <- collapseReplicates(gdds, gdds$rep_tec)"
   ]
  },
  {
   "cell_type": "code",
   "execution_count": 10,
   "metadata": {
    "collapsed": true
   },
   "outputs": [],
   "source": [
    "mcols(gdds) <- cbind(mcols(gdds), annot)"
   ]
  },
  {
   "cell_type": "markdown",
   "metadata": {},
   "source": [
    "# Data exploration\n",
    "\n",
    "DESeq2 offers some ways of exploring the data before undertaking the differential gene expression analysis. "
   ]
  },
  {
   "cell_type": "code",
   "execution_count": 11,
   "metadata": {},
   "outputs": [
    {
     "data": {},
     "metadata": {},
     "output_type": "display_data"
    },
    {
     "data": {
      "image/png": "[encoded data removed]",
      "text/plain": [
       "plot without title"
      ]
     },
     "metadata": {},
     "output_type": "display_data"
    }
   ],
   "source": [
    "ntd <- normTransform(gdds)\n",
    "plotPCA(ntd, intgroup=c(\"exp\", \"cond\"))"
   ]
  },
  {
   "cell_type": "markdown",
   "metadata": {},
   "source": [
    "# Differential expression analyses\n",
    "\n",
    "## 1º Question: What are the DE genes for each time point and host phenotype between the control and inoculated groups?\n",
    "\n",
    "Here,I'll perform pairwise comparisons for each HPI and plant phenotype (e.g. Resistant at 24HPI; Susceptible at 24HPI, etc.). To this end, I create a new subset for each comparison from the main DESeqDataset. **In all of the following cases, the variable being compared is Control vs Inoculated**."
   ]
  },
  {
   "cell_type": "code",
   "execution_count": 12,
   "metadata": {
    "collapsed": true
   },
   "outputs": [],
   "source": [
    "### subset conditions ###\n",
    "pair_cond = list(\n",
    "    # Resistant at 24HPI\n",
    "    \"rh24c\" = colData(gdds)$hpi==\"24h\" & colData(gdds)$exp==\"R\",\n",
    "    # Resistant at 48HPI\n",
    "    \"rh48c\" = colData(gdds)$hpi==\"48h\" & colData(gdds)$exp==\"R\",\n",
    "    # Resistant at 72HPI\n",
    "    \"rh72c\" = colData(gdds)$hpi==\"72h\" & colData(gdds)$exp==\"R\",\n",
    "    # Susceptible at 24HPI\n",
    "    \"sh24c\" = colData(gdds)$hpi==\"24h\" & colData(gdds)$exp==\"S\",\n",
    "    # Susceptible at 48HPI\n",
    "    \"sh48c\" = colData(gdds)$hpi==\"48h\" & colData(gdds)$exp==\"S\",\n",
    "    # Susceptible at 72HPI\n",
    "    \"sh72c\" = colData(gdds)$hpi==\"72h\" & colData(gdds)$exp==\"S\",\n",
    "    ######\n",
    "    # Control at 24HPI\n",
    "    \"c24\" = colData(gdds)$cond==\"C\" & colData(gdds)$hpi==\"24h\",\n",
    "    # Control at 48HPI\n",
    "    \"c48\" = colData(gdds)$cond==\"C\" & colData(gdds)$hpi==\"48h\",\n",
    "    # Control at 72HPI\n",
    "    \"c72\" = colData(gdds)$cond==\"C\" & colData(gdds)$hpi==\"72h\"\n",
    ")"
   ]
  },
  {
   "cell_type": "code",
   "execution_count": 13,
   "metadata": {
    "collapsed": true
   },
   "outputs": [],
   "source": [
    "getpair_stats <- function(ds, cond) {\n",
    "    pc <- unlist(pair_cond[cond])\n",
    "    sdd <- subset(ds, select=pc)\n",
    "    \n",
    "    if (cond %in% c(\"c24\", \"c48\", \"c72\")) {\n",
    "        design(sdd) <- formula(~ exp)\n",
    "    }\n",
    "    \n",
    "    sddd <- DESeq(sdd);\n",
    "    sddres <- results(sddd, alpha=0.05, lfcThreshold=1, altHypothesis=\"greaterAbs\")\n",
    "    \n",
    "    #print(sdd@colData)\n",
    "    print(paste(\"Data set with \", nrow(sdd@colData), \" samples and \", length(sdd@rowRanges), \" genes.\"))\n",
    "    #print(sddres)\n",
    "    print(paste(\"Total of significant DE :\", sum(sddres$padj <= 0.05, na.rm=T)))\n",
    "    \n",
    "    return(list(\"res\"=sddres, \"ds\"=sdd))\n",
    "}"
   ]
  },
  {
   "cell_type": "markdown",
   "metadata": {},
   "source": [
    "### Resistant at 24HPI"
   ]
  },
  {
   "cell_type": "code",
   "execution_count": 14,
   "metadata": {
    "scrolled": true
   },
   "outputs": [
    {
     "name": "stderr",
     "output_type": "stream",
     "text": [
      "estimating size factors\n",
      "estimating dispersions\n",
      "gene-wise dispersion estimates\n",
      "mean-dispersion relationship\n",
      "final dispersion estimates\n",
      "fitting model and testing\n"
     ]
    },
    {
     "name": "stdout",
     "output_type": "stream",
     "text": [
      "[1] \"Data set with  4  samples and  24413  genes.\"\n",
      "[1] \"Total of significant DE : 74\"\n"
     ]
    }
   ],
   "source": [
    "rh24 <- getpair_stats(gdds, \"rh24c\")"
   ]
  },
  {
   "cell_type": "code",
   "execution_count": null,
   "metadata": {
    "collapsed": true
   },
   "outputs": [],
   "source": [
    "write.table(as.matrix(rh24$res), file=\"rh24c.csv\", , quote=F, sep=\";\")"
   ]
  },
  {
   "cell_type": "code",
   "execution_count": null,
   "metadata": {
    "collapsed": true
   },
   "outputs": [],
   "source": [
    "gene_ids = rownames(as.data.frame(subset(rh24$res, rh24$res$padj <= 0.05)))\n",
    "write(gene_ids, file=\"resistant24hpi.txt\")"
   ]
  },
  {
   "cell_type": "markdown",
   "metadata": {},
   "source": [
    "### Resistant at 48HPI"
   ]
  },
  {
   "cell_type": "code",
   "execution_count": null,
   "metadata": {
    "scrolled": true
   },
   "outputs": [],
   "source": [
    "rh48 <- getpair_stats(gdds, \"rh48c\")"
   ]
  },
  {
   "cell_type": "code",
   "execution_count": null,
   "metadata": {
    "collapsed": true
   },
   "outputs": [],
   "source": [
    "write.table(as.matrix(rh48$res), file=\"rh48c.csv\", , quote=F, sep=\";\")"
   ]
  },
  {
   "cell_type": "code",
   "execution_count": null,
   "metadata": {
    "collapsed": true
   },
   "outputs": [],
   "source": [
    "gene_ids = rownames(as.data.frame(subset(rh48$res, rh48$res$padj <= 0.05)))\n",
    "write(gene_ids, file=\"resistant48hpi.txt\")"
   ]
  },
  {
   "cell_type": "markdown",
   "metadata": {},
   "source": [
    "### Resistant at 72HPI"
   ]
  },
  {
   "cell_type": "code",
   "execution_count": null,
   "metadata": {
    "scrolled": true
   },
   "outputs": [],
   "source": [
    "rh72 <- getpair_stats(gdds, \"rh72c\")"
   ]
  },
  {
   "cell_type": "code",
   "execution_count": null,
   "metadata": {
    "collapsed": true
   },
   "outputs": [],
   "source": [
    "write.table(as.matrix(rh72$res), file=\"rh72c.csv\", , quote=F, sep=\";\")"
   ]
  },
  {
   "cell_type": "code",
   "execution_count": null,
   "metadata": {
    "collapsed": true
   },
   "outputs": [],
   "source": [
    "gene_ids = rownames(as.data.frame(subset(rh72$res, rh72$res$padj <= 0.05)))\n",
    "write(gene_ids, file=\"resistant72hpi.txt\")"
   ]
  },
  {
   "cell_type": "markdown",
   "metadata": {},
   "source": [
    "### Susceptible at 24HPI"
   ]
  },
  {
   "cell_type": "code",
   "execution_count": null,
   "metadata": {},
   "outputs": [],
   "source": [
    "sh24 <- getpair_stats(gdds, \"sh24c\")"
   ]
  },
  {
   "cell_type": "code",
   "execution_count": null,
   "metadata": {
    "collapsed": true
   },
   "outputs": [],
   "source": [
    "write.table(as.matrix(sh24$res), file=\"sh24c.csv\", , quote=F, sep=\";\")"
   ]
  },
  {
   "cell_type": "code",
   "execution_count": null,
   "metadata": {
    "collapsed": true
   },
   "outputs": [],
   "source": [
    "gene_ids = rownames(as.data.frame(subset(sh24$res, sh24$res$padj <= 0.05)))\n",
    "write(gene_ids, file=\"susceptible24hpi.txt\")"
   ]
  },
  {
   "cell_type": "markdown",
   "metadata": {},
   "source": [
    "### Susceptible at 48HPI"
   ]
  },
  {
   "cell_type": "code",
   "execution_count": null,
   "metadata": {},
   "outputs": [],
   "source": [
    "sh48 <- getpair_stats(gdds, \"sh48c\")"
   ]
  },
  {
   "cell_type": "code",
   "execution_count": null,
   "metadata": {
    "collapsed": true
   },
   "outputs": [],
   "source": [
    "write.table(as.matrix(sh48$res), file=\"sh48c.csv\", , quote=F, sep=\";\")"
   ]
  },
  {
   "cell_type": "code",
   "execution_count": null,
   "metadata": {
    "collapsed": true
   },
   "outputs": [],
   "source": [
    "gene_ids = rownames(as.data.frame(subset(sh48$res, sh48$res$padj <= 0.05)))\n",
    "write(gene_ids, file=\"susceptible48hpi.txt\")"
   ]
  },
  {
   "cell_type": "markdown",
   "metadata": {},
   "source": [
    "### Susceptible at 72HPI"
   ]
  },
  {
   "cell_type": "code",
   "execution_count": null,
   "metadata": {
    "scrolled": true
   },
   "outputs": [],
   "source": [
    "sh72 <- getpair_stats(gdds, \"sh72c\")"
   ]
  },
  {
   "cell_type": "code",
   "execution_count": null,
   "metadata": {
    "collapsed": true
   },
   "outputs": [],
   "source": [
    "write.table(as.matrix(sh72$res), file=\"sh72c.csv\", , quote=F, sep=\";\")"
   ]
  },
  {
   "cell_type": "code",
   "execution_count": null,
   "metadata": {
    "collapsed": true
   },
   "outputs": [],
   "source": [
    "gene_ids = rownames(as.data.frame(subset(sh72$res, sh72$res$padj <= 0.05)))\n",
    "write(gene_ids, file=\"susceptible72hpi.txt\")"
   ]
  },
  {
   "cell_type": "markdown",
   "metadata": {},
   "source": [
    "### 1.1 Question: What are the trends of DEG for each host phenotype across time points?\n",
    "\n",
    "First, a simple comparison of the significant DE genes for each plant phenotype across all three HPI points."
   ]
  },
  {
   "cell_type": "code",
   "execution_count": null,
   "metadata": {
    "collapsed": true
   },
   "outputs": [],
   "source": [
    "pairsr <- list(\n",
    "    \"rh24\" = rh24,\n",
    "    \"rh48\" = rh48,\n",
    "    \"rh72\" = rh72\n",
    ")\n",
    "\n",
    "pairss <- list(\n",
    "    \"sh24\" = sh24,\n",
    "    \"sh48\" = sh48,\n",
    "    \"sh72\" = sh72\n",
    ")"
   ]
  },
  {
   "cell_type": "code",
   "execution_count": null,
   "metadata": {
    "scrolled": false
   },
   "outputs": [],
   "source": [
    "x <- data.frame(\n",
    "    \"x\"=c(\"h24\", \"h48\", \"h72\"),\n",
    "    \"r\"=unlist(lapply(pairsr, function(x) sum(x$res$padj <= 0.05, na.rm=T))),\n",
    "    \"s\"=unlist(lapply(pairss, function(x) sum(x$res$padj <= 0.05, na.rm=T)))\n",
    ")\n",
    "x.m <- melt(x)\n",
    "\n",
    "p <- ggplot(x.m, aes(x, value)) +\n",
    "    geom_bar(aes(fill=variable), stat = \"identity\", position=\"dodge\") +\n",
    "    xlab(\"HPI\")+ ylab(\"Frequency\") + ggtitle (\"Number of DE genes for each phenotype across HPI\") +\n",
    "    scale_fill_discrete(name = \"Phenotype\")\n",
    "\n",
    "p\n",
    "x"
   ]
  },
  {
   "cell_type": "markdown",
   "metadata": {},
   "source": [
    "When comparing the control with the inoculate group, we observed a substantical increase in the number of DEG along time for both host phenotypes. This increase, as well as the absolute number of DEG, is higher in the resistant phenotype. With the exception of the 48h time point, the number of DEG was between 2-3.5x higher than in the susceptible phenotype."
   ]
  },
  {
   "cell_type": "markdown",
   "metadata": {},
   "source": [
    " ### 1.1.1 Question: What is the contribution of up and down regulated DEG for each host phenotype along time?"
   ]
  },
  {
   "cell_type": "code",
   "execution_count": null,
   "metadata": {},
   "outputs": [],
   "source": [
    "x <- data.frame(\n",
    "    \"x\"=c(\"h24\", \"h48\", \"h72\"),\n",
    "    \"rUP\"=unlist(lapply(pairsr, function(x) sum(subset(x$res, x$res$padj <= 0.05)$log2FoldChange >= 1, na.rm=T))),\n",
    "    \"rDOWN\"=unlist(lapply(pairsr, function(x) sum(subset(x$res, x$res$padj <= 0.05)$log2FoldChange <= -1, na.rm=T))),\n",
    "    \"sUP\"=unlist(lapply(pairss, function(x) sum(subset(x$res, x$res$padj <= 0.05)$log2FoldChange >= 1, na.rm=T))),\n",
    "    \"sDOWN\"=unlist(lapply(pairss, function(x) sum(subset(x$res, x$res$padj <= 0.05)$log2FoldChange <= -1, na.rm=T)))\n",
    ")\n",
    "x.m <- melt(x)\n",
    "\n",
    "p <- ggplot(x.m, aes(variable, value,fill=variable)) +\n",
    "    geom_bar(aes(), stat = \"identity\", position=\"dodge\") +\n",
    "    facet_wrap(~x, ncol=3) +\n",
    "    xlab(\"\")+ ylab(\"Frequency\") + ggtitle(\"Number of UP and DOWN regulated DE genes for each phenotype across HPI\") +\n",
    "    scale_fill_discrete(name = \"Phenotype\")\n",
    "\n",
    "p\n",
    "#x.m"
   ]
  },
  {
   "cell_type": "markdown",
   "metadata": {},
   "source": [
    "As we can see, the majority of the DE genes are being upregulated, and they are the main contributors to the difference in total DEG between phenotypes across HPI points. This seems to lead to the conclusion that the response to the presence of the pathogen in either host results mostly in an increase of gene expression. As noted before, the number of up-regulated DEG is much higher in the resistant phenotype and seems to be elicited earlier."
   ]
  },
  {
   "cell_type": "markdown",
   "metadata": {},
   "source": [
    "### 1.2.1 Question:  For each host genotype, what is the overllap of DE genes over time points?\n",
    "\n",
    "Is there a great proportion of DEG shared across all time points? What are the time point combinations with the most shared DEG? What is the time point with the highest proportion of exclusive DEG?"
   ]
  },
  {
   "cell_type": "code",
   "execution_count": null,
   "metadata": {},
   "outputs": [],
   "source": [
    "# Subset the results of each time point and get the rownames, which contain the number of the gene.\n",
    "rh24_gi <- rownames(subset(rh24$res, rh24$res$padj <= 0.05))\n",
    "rh48_gi <- rownames(subset(rh48$res, rh48$res$padj <= 0.05))\n",
    "rh72_gi <- rownames(subset(rh72$res, rh72$res$padj <= 0.05))\n",
    "\n",
    "ven_rh <- list(\n",
    "    rh24=rh24_gi,\n",
    "    rh48=rh48_gi,\n",
    "    rh72=rh72_gi\n",
    ")\n",
    "\n",
    "rh_ven <- venn.diagram(ven_rh, main=\"Resistant DE over time\", filename=NULL,print.mode=c(\"raw\", \"percent\"))\n",
    "\n",
    "# Subset the results of each time point and get the rownames, which contain the number of the gene.\n",
    "sh24_gi <- rownames(subset(sh24$res, sh24$res$padj <= 0.05))\n",
    "sh48_gi <- rownames(subset(sh48$res, sh48$res$padj <= 0.05))\n",
    "sh72_gi <- rownames(subset(sh72$res, sh72$res$padj <= 0.05))\n",
    "\n",
    "ven_sh <- list(\n",
    "    sh24=sh24_gi,\n",
    "    sh48=sh48_gi,\n",
    "    sh72=sh72_gi\n",
    ")\n",
    "\n",
    "sh_ven <- venn.diagram(ven_sh, main=\"Susceptible DE over time\", filename=NULL, print.mode=c(\"raw\", \"percent\"))\n",
    "\n",
    "library(repr)\n",
    "options(repr.plot.height=4)\n",
    "grid.arrange(gTree(children=rh_ven), gTree(children=sh_ven), ncol=2, nrow=1, heights=c(1), widths=c(1,1))"
   ]
  },
  {
   "cell_type": "markdown",
   "metadata": {},
   "source": [
    "Overall, the overlap of DEG for each phenotype across all combinations of time points was fairly low. The number of  DEG significant at **all** time points was 45 (6.23%) and 10 (2.38%) for the resistant and susceptible phenotypes, respectively. \n",
    "\n",
    "Starting with 24HPI point, we can see that the majority of the DEG in the **resistant** phenotype (67%) are actually shared with other time points. In fact, almost half (44.11%) of the DEG genes at 24HPI remain differentially expressed across all remaining time points. However, genes that are DE at 24h very rarely (3.9%) remain expressed only until the 48HPI point. On the other hand, 19.61% of the genes with differential expression at 24HPI cease to have differential expression at 48h and return as DEG at the 72HPI point. This trend is very similar to the one observed for the **susceptible** phenotype.\n",
    "\n",
    "At the 48HPI point, we can see that in both phenotyes, the majority of the DGE (59.34% for resistant and 57.20% forsusceptible) are shared with the 72HPI. As previously noted, there are very few DGE shared only with the 24HPI point.\n",
    "\n",
    "At the 72HPI point, we can see that (particularly for the resistant phenotype) the majority of the DEG are exclusive of that time point. \n",
    "\n",
    "The overall conclusion from these results are that there is tendency for genes that are differentially expressed at a given time point, to continue to be so along time. Nevertheless, the proportion of DEG that occur at all time points is very low. It also seems to be very rare for genes to be differentially expressed at the first two time points and then cease to be so in the 72HPI point. The majority of the DEG seem to appear at the last time point, as demonstrated by the fact that the number of exclusive genes for the 72HPI is always the highest."
   ]
  },
  {
   "cell_type": "markdown",
   "metadata": {},
   "source": [
    "## 1.2.2 Question:  For each host time point, what is the overlap of DE genes between phenotypes?\n",
    "\n",
    "Are the same genes being expressed in both phenotypes at each time point? And is this sharing consistent across time points? At which time point do they share the most DEG?"
   ]
  },
  {
   "cell_type": "code",
   "execution_count": null,
   "metadata": {},
   "outputs": [],
   "source": [
    "# Subset the results of each time point and get the rownames, which contain the number of the gene.\n",
    "rh24_gi <- rownames(subset(rh24$res, rh24$res$padj <= 0.05))\n",
    "sh24_gi <- rownames(subset(sh24$res, sh24$res$padj <= 0.05))\n",
    "\n",
    "ven_24h <- list(\n",
    "    rh24=rh24_gi,\n",
    "    sh24=sh24_gi\n",
    ")\n",
    "\n",
    "h24_ven <- venn.diagram(ven_24h, main=\"24HPI overlap between phenotypes\", filename=NULL, print.mode=c(\"raw\", \"percent\"))\n",
    "\n",
    "# Subset the results of each time point and get the rownames, which contain the number of the gene.\n",
    "rh48_gi <- rownames(subset(rh48$res, rh48$res$padj <= 0.05))\n",
    "sh48_gi <- rownames(subset(sh48$res, sh48$res$padj <= 0.05))\n",
    "\n",
    "ven_48h <- list(\n",
    "    rh48=rh48_gi,\n",
    "    sh48=sh48_gi\n",
    ")\n",
    "\n",
    "h48_ven <- venn.diagram(ven_48h, main=\"24HPI overlap between phenotypes\", filename=NULL, print.mode=c(\"raw\", \"percent\"))\n",
    "\n",
    "# Subset the results of each time point and get the rownames, which contain the number of the gene.\n",
    "rh72_gi <- rownames(subset(rh72$res, rh72$res$padj <= 0.05))\n",
    "sh72_gi <- rownames(subset(sh72$res, sh72$res$padj <= 0.05))\n",
    "\n",
    "ven_72h <- list(\n",
    "    rh72=rh72_gi,\n",
    "    sh72=sh72_gi\n",
    ")\n",
    "\n",
    "h72_ven <- venn.diagram(ven_72h, main=\"72HPI overlap between phenotypes\", filename=NULL, imagetype=\"png\",print.mode=c(\"raw\", \"percent\"))\n",
    "\n",
    "library(repr)\n",
    "options(repr.plot.height=6)\n",
    "blank<-rectGrob(gp=gpar(col=\"white\"))\n",
    "grid.arrange(gTree(children=h24_ven), blank, gTree(children=h48_ven), gTree(children=h72_ven), ncol=3, nrow=2, widths=c(0.8, 0.1, 0.8))"
   ]
  },
  {
   "cell_type": "markdown",
   "metadata": {},
   "source": [
    "Assessing the overlap between host phenotypes across all time points provides an interesting insight. Despite starting with rather different sets of DEG (8 genes; 27%), there is a clear trend for the increase in the overlap of DEG over time. This increases reaches its maximum at the last time point where almost 80% of the DEG in the susceptible phenotype are also found in the set of DEG from the resistant phenotype.\n",
    "\n",
    "A tantalizing suggestion from these results, is that the core response for \"resistance\" may not be very different between both genotypes over time. However, the response is elicited much earlier in the resistant phenotype, and having an earlier kick-off to that response appears to be the key. Over time, the overlap of DEG for both hosts clearly seems to converge in a pattern similar to an eclipse."
   ]
  },
  {
   "cell_type": "markdown",
   "metadata": {},
   "source": [
    "## 1.3 Question: How does the fold change distributes according to the normalized read counts for each condition?"
   ]
  },
  {
   "cell_type": "markdown",
   "metadata": {},
   "source": [
    "Now we can also plot the distribution of the log2 fold changes for each condition over the mean of normalized counts for all samples."
   ]
  },
  {
   "cell_type": "code",
   "execution_count": null,
   "metadata": {
    "scrolled": false
   },
   "outputs": [],
   "source": [
    "multiMA <- function(x) {\n",
    "    plotMA(x$res)\n",
    "}\n",
    "\n",
    "par(mfrow = c(2,3), mar=c(7, 4, 3, 0))\n",
    "\n",
    "\n",
    "y <- lapply(pairsr, multiMA)\n",
    "mtext(\"Resistant\", side = 3, line = -2, outer = TRUE)\n",
    "mtext(\"Susceptible\", side = 3, line = -28, outer = TRUE)\n",
    "mtext(\"24HPI\", at = 0.18, side = 3, line = -52, outer = TRUE)\n",
    "mtext(\"48HPI\", at = 0.53, side = 3, line = -52, outer = TRUE)\n",
    "mtext(\"72HPI\", at = 0.85, side = 3, line = -52, outer = TRUE)\n",
    "y <- lapply(pairss, multiMA)"
   ]
  },
  {
   "cell_type": "code",
   "execution_count": null,
   "metadata": {
    "collapsed": true
   },
   "outputs": [],
   "source": [
    "plotFC <- function(ds, title) {\n",
    "    ds$chr <- mcols(gdds)$chr;\n",
    "    mdf <- data.frame(\"gene\" = rownames(ds),\n",
    "                      \"chr\" = mcols(gdds)$chr ,\n",
    "                      \"fc\" = ds$log2FoldChange,\n",
    "                      \"qval\" = ds$padj)\n",
    "    df <- subset(mdf, mdf$qval <= 0.05)\n",
    "    dfc <- count(df, \"chr\")\n",
    "    p <- ggplot(df, aes(as.numeric(rownames(df)), fc)) +\n",
    "        geom_point(aes(color=fc)) +\n",
    "        geom_hline(data = dfc,\n",
    "                   aes(yintercept=freq * (max(df$fc) / max(dfc$freq)), alpha=.7, text=paste(\"Frequency: \", freq)),\n",
    "                   colour=\"red\") + \n",
    "        facet_grid(~chr, scales=\"free_x\") +\n",
    "        scale_colour_gradientn(colours=rainbow(7)) +\n",
    "        xlab(\"Genome position\") +\n",
    "        ggtitle(paste(title, \"(\", sum(dfc$freq) ,\")\")) + \n",
    "        theme(axis.text.x=element_blank(),\n",
    "              axis.ticks.x=element_blank(),\n",
    "              panel.spacing=unit(0.15, \"lines\"))\n",
    "        #scale_y_continuous(name = \"log2(FC)\",\n",
    "        #                   sec.axis = sec_axis(~ . * (max(df$fc) / max(dfc$freq)) , name = \"Frequency\"),\n",
    "        #                   limits = c(min(df$fc), max(df$fc)))\n",
    "    \n",
    "    p\n",
    "    \n",
    "}"
   ]
  },
  {
   "cell_type": "markdown",
   "metadata": {},
   "source": [
    "The number of DE genes tends to increase with the number of HPI and with a clear distribution skewed torwards up-regulated genes."
   ]
  },
  {
   "cell_type": "markdown",
   "metadata": {},
   "source": [
    "### 1.4 Question: How do DEG distribute for each condition across the genome?"
   ]
  },
  {
   "cell_type": "markdown",
   "metadata": {},
   "source": [
    "### Resistant phenotype"
   ]
  },
  {
   "cell_type": "code",
   "execution_count": null,
   "metadata": {
    "scrolled": false
   },
   "outputs": [],
   "source": [
    "plotFC(rh24$res, \"Resistant 24HPI\")\n",
    "plotFC(rh48$res, \"Resistant 48HPI\")\n",
    "plotFC(rh72$res, \"Resistant 72HPI\")"
   ]
  },
  {
   "cell_type": "markdown",
   "metadata": {},
   "source": [
    "### Susceptible phenotype"
   ]
  },
  {
   "cell_type": "code",
   "execution_count": null,
   "metadata": {
    "scrolled": false
   },
   "outputs": [],
   "source": [
    "plotFC(sh24$res, \"Susceptible 24HPI\")\n",
    "plotFC(sh48$res, \"Susceptible 48HPI\")\n",
    "plotFC(sh72$res, \"Susceptible 72HPI\")"
   ]
  },
  {
   "cell_type": "markdown",
   "metadata": {},
   "source": [
    "## Time-course DE\n",
    "\n",
    "For a control and treatment time series, one can use a design formula containing the condition factor, the time factor, and the interaction of the two. In this case, using the likelihood ratio test with a reduced model which does not contain the interaction terms will test whether the condition induces a change in gene expression at any time point after the reference level time point (time 0).\n",
    "\n",
    "Time-course experiments allow the explicit discovery of genes that have differential expression between two conditions **over time**. Previously, we tested whether a particular gene was differentially expressed between host phenotypes at any particular point in time. In this experiment, DE genes with low p-values will be the ones that show a host-specific effect **over time** after time 0."
   ]
  },
  {
   "cell_type": "code",
   "execution_count": null,
   "metadata": {
    "collapsed": true
   },
   "outputs": [],
   "source": [
    "get_tcstats <- function(ds) {\n",
    "    design(ds) <- formula(~ cond + hpi + cond:hpi);\n",
    "    dsd <- DESeq(ds, test=\"LRT\", reduced=~ cond + hpi);\n",
    "    res <- results(dsd);\n",
    "    return(list(\"res\"=res, \"ds\"=dsd))\n",
    "}\n",
    "\n",
    "get_tcstats_cond <- function(ds) {\n",
    "    design(ds) <- formula(~ exp + hpi + exp:hpi);\n",
    "    dsd <- DESeq(ds, test=\"LRT\", reduced=~ exp + hpi);\n",
    "    res <- results(dsd, alpha=0.05);\n",
    "    return(list(\"res\"=res, \"ds\"=dsd))\n",
    "}"
   ]
  },
  {
   "cell_type": "markdown",
   "metadata": {},
   "source": [
    "# 3º Question: How does gene expression between control and inoculated conditions evolve over time?\n",
    "\n",
    "### 3.1 Question: Which genes show DE over time for the resistant phenotype? "
   ]
  },
  {
   "cell_type": "code",
   "execution_count": null,
   "metadata": {},
   "outputs": [],
   "source": [
    "# Subset the data to include only Q samples\n",
    "rqt = colData(gdds)$exp==\"R\"\n",
    "rds <- subset(gdds, select=rqt)\n",
    "\n",
    "rtc <- get_tcstats(rds)"
   ]
  },
  {
   "cell_type": "code",
   "execution_count": null,
   "metadata": {},
   "outputs": [],
   "source": [
    "length(which(rtc$res$padj <= 0.05))"
   ]
  },
  {
   "cell_type": "code",
   "execution_count": null,
   "metadata": {
    "collapsed": true
   },
   "outputs": [],
   "source": [
    "write.table(as.matrix(rtc$res), file=\"rtc.csv\", , quote=F, sep=\";\")"
   ]
  },
  {
   "cell_type": "code",
   "execution_count": null,
   "metadata": {
    "collapsed": true
   },
   "outputs": [],
   "source": [
    "rtc_ids = row.names(as.data.frame(subset(rtc$res, rtc$res$padj <= 0.05)))\n",
    "write(rtc_ids, \"resistant_timecourse.txt\")"
   ]
  },
  {
   "cell_type": "markdown",
   "metadata": {},
   "source": [
    "For the resistant phenotype, there are 83 genes that show a significant change in expression between control and inoculated conditions over time. This means that, at some point in time, these genes displayed a different expression over the transition to a particular time point between the control and inoculated groups.\n",
    "\n",
    "We can also plot the profile of each DEG over time using an heatmap as below:"
   ]
  },
  {
   "cell_type": "code",
   "execution_count": null,
   "metadata": {},
   "outputs": [],
   "source": [
    "betas <- coef(rtc$ds)\n",
    "topGenes <- head(order(rtc$res$padj), 83)\n",
    "\n",
    "mat <- betas[topGenes, -c(1,2)]\n",
    "\n",
    "thr <- 3\n",
    "mat[mat < -thr] <- -thr\n",
    "mat[mat > thr] <- thr\n",
    "\n",
    "pheatmap(mat, breaks=seq(from=-thr, to=thr, length=101), cluster_col=F)"
   ]
  },
  {
   "cell_type": "markdown",
   "metadata": {},
   "source": [
    "From the heatmap above, we can see from the last 2 columns (condQ.hpi48h and condQ.hpi72h) the expression profile of each of the 83 significant genes over time. For example, the first gene (row) displayed a strong induction of expression between the 24-48h and then regressed to expression levels similar to the control. For the majority of these genes, there seems to be a strong induction of expression over time, reaching maximum values when transitioning to the last time point. However, a group of roughly 20 genes (at the bottom of the heatmap) also displayed a strong downregulation on the inoculated group over time.\n",
    "\n",
    "If we were interested in the particular profile of a certain gene, we could also model the read counts of that gene as a smooth function of time, and include an interaction term of the condition with the smooth function. Let's demonstrate with the first gene in the above heatmap, 18841."
   ]
  },
  {
   "cell_type": "code",
   "execution_count": null,
   "metadata": {
    "scrolled": false
   },
   "outputs": [],
   "source": [
    "options(warn=-1)\n",
    "sprof <- function(gnID) {\n",
    "    fiss <- plotCounts(rtc$ds, gnID, \n",
    "                       intgroup = c(\"hpi\",\"cond\"), returnData = TRUE)\n",
    "    p <- ggplot(fiss,\n",
    "      aes(x = as.numeric(hpi), y = count, color = cond, group = cond)) +\n",
    "      geom_point() + geom_smooth(se = FALSE, method = \"loess\") + scale_y_log10()\n",
    "    return(p)\n",
    "}\n",
    "\n",
    "gene27 <- head(order(rtc$res$padj), 27)\n",
    "\n",
    "z <- lapply(gene27, sprof)\n",
    "\n",
    "options(repr.plot.height=16)\n",
    "multiplot(plotlist=z, cols=3)"
   ]
  },
  {
   "cell_type": "markdown",
   "metadata": {},
   "source": [
    "### 3.1 Question: Which genes show DE over time for the resistant phenotype? "
   ]
  },
  {
   "cell_type": "code",
   "execution_count": null,
   "metadata": {},
   "outputs": [],
   "source": [
    "# Subset the data to include only Q samples\n",
    "sqt = colData(gdds)$exp==\"S\"\n",
    "sds <- subset(gdds, select=sqt)\n",
    "\n",
    "stc <- get_tcstats(sds)"
   ]
  },
  {
   "cell_type": "code",
   "execution_count": null,
   "metadata": {},
   "outputs": [],
   "source": [
    "length(which(stc$res$padj <= 0.05))"
   ]
  },
  {
   "cell_type": "code",
   "execution_count": null,
   "metadata": {
    "collapsed": true
   },
   "outputs": [],
   "source": [
    "write.table(as.matrix(stc$res), file=\"stc.csv\", , quote=F, sep=\";\")"
   ]
  },
  {
   "cell_type": "code",
   "execution_count": null,
   "metadata": {
    "collapsed": true
   },
   "outputs": [],
   "source": [
    "stc_ids = row.names(as.data.frame(subset(stc$res, stc$res$padj <= 0.05)))\n",
    "write(stc_ids, \"susceptible_timecourse.txt\")"
   ]
  },
  {
   "cell_type": "markdown",
   "metadata": {},
   "source": [
    "As we can see, the number DEG over time for the susceptible host is much lower than in the resistant host. This is an expected result from the previous analyses where each time point was compared independently for both hosts, where the susceptible host showed less DEG.\n",
    "\n",
    "We can perform the same heatmap analysis to see the profile of the significant DE."
   ]
  },
  {
   "cell_type": "code",
   "execution_count": null,
   "metadata": {},
   "outputs": [],
   "source": [
    "sbetas <- coef(stc$ds)\n",
    "stopGenes <- head(order(stc$res$padj), 25)\n",
    "\n",
    "smat <- betas[stopGenes, -c(1,2)]\n",
    "\n",
    "thr <- 3\n",
    "smat[smat < -thr] <- -thr\n",
    "smat[smat > thr] <- thr\n",
    "\n",
    "options(repr.plot.height=6)\n",
    "pheatmap(smat, breaks=seq(from=-thr, to=thr, length=101), cluster_col=F)"
   ]
  },
  {
   "cell_type": "markdown",
   "metadata": {},
   "source": [
    "Unlike the heatmap for the resistant host, this showed a much lesser trend of strong induction in the inoculated group. In fact, almost half of the DEG showed an variable degree of down-regulation, compared to the control group.\n",
    "\n",
    "We can now assess the overlap of these DEG between the resistant and susceptible hosts."
   ]
  },
  {
   "cell_type": "code",
   "execution_count": null,
   "metadata": {
    "scrolled": false
   },
   "outputs": [],
   "source": [
    "rde <- which(rtc$res$padj <= 0.05)\n",
    "sde <- which(stc$res$padj <= 0.05)\n",
    "\n",
    "tc_ds <- list(\n",
    "    \"rv\" = rde,\n",
    "    \"sv\" = sde\n",
    ")\n",
    "options(repr.plot.height=5)\n",
    "tc_ven <- venn.diagram(tc_ds, filename=NULL,  imagetype=\"png\",print.mode=c(\"raw\", \"percent\"))\n",
    "grid.draw(tc_ven)"
   ]
  },
  {
   "cell_type": "markdown",
   "metadata": {},
   "source": [
    "Interestingly, only one DEG is shared between the resistant and susceptible hosts, which means that the genes that are being elicited over time are almost completely different between these hosts."
   ]
  },
  {
   "cell_type": "markdown",
   "metadata": {},
   "source": [
    "Finally, we can also plot the distribution of the DEG over time along the genome for both hosts."
   ]
  },
  {
   "cell_type": "code",
   "execution_count": null,
   "metadata": {},
   "outputs": [],
   "source": [
    "plotFC(rtc$res, \"DEG over time for Resistant\")\n",
    "plotFC(stc$res, \"DEG over time for Susceptible\")"
   ]
  },
  {
   "cell_type": "markdown",
   "metadata": {},
   "source": [
    "It is noteworthy that, as in the independent time point comparisons performed before, Chr2 consistently displays the highest number of DEG."
   ]
  },
  {
   "cell_type": "markdown",
   "metadata": {},
   "source": [
    "## 4º Question: Which genes are DE at each time point between control and inoculated in function of the host phenotype?\n",
    "\n",
    "The question that will be addressed here is which genes are DE between control vs. inoculated **and** resistant vs. susceptible. The rationale is very similar to the time-course experiment, but replacing the cond:hpi interaction with cond:exp."
   ]
  },
  {
   "cell_type": "code",
   "execution_count": null,
   "metadata": {
    "collapsed": true
   },
   "outputs": [],
   "source": [
    "hpi24_c <- colData(gdds)$hpi==\"24h\"\n",
    "hpi48_c <- colData(gdds)$hpi==\"48h\"\n",
    "hpi72_c <- colData(gdds)$hpi==\"72h\"\n",
    "\n",
    "hpi_intest <- function(sel) {\n",
    "    ss <- subset(gdds, select=sel)\n",
    "    design(ss) <- formula(~ cond + exp + cond:exp);\n",
    "    dsd <- DESeq(ss, test=\"LRT\", reduced=~ cond + exp);\n",
    "    res <- results(dsd, alpha=.05);\n",
    "    print(length(which(res$padj <= 0.05)))\n",
    "    return(list(\"res\"=res, \"ds\"=dsd))\n",
    "}"
   ]
  },
  {
   "cell_type": "code",
   "execution_count": null,
   "metadata": {},
   "outputs": [],
   "source": [
    "hpi24i <- hpi_intest(hpi24_c)"
   ]
  },
  {
   "cell_type": "code",
   "execution_count": null,
   "metadata": {},
   "outputs": [],
   "source": [
    "hpi48i <- hpi_intest(hpi48_c)"
   ]
  },
  {
   "cell_type": "code",
   "execution_count": null,
   "metadata": {},
   "outputs": [],
   "source": [
    "hpi72i <- hpi_intest(hpi72_c)"
   ]
  },
  {
   "cell_type": "markdown",
   "metadata": {},
   "source": [
    "# Table creation"
   ]
  },
  {
   "cell_type": "code",
   "execution_count": null,
   "metadata": {},
   "outputs": [],
   "source": [
    "na_conv <- function(df) {\n",
    "    ndf <- df;\n",
    "    ndf[ndf > 0.05] <- NA;\n",
    "    return(ndf)\n",
    "}\n",
    "\n",
    "ds_v <- list(rh24$res$padj,rh48$res$padj, rh72$res$padj,\n",
    "             sh24$res$padj, sh48$res$padj, sh72$res$padj,\n",
    "             rtc$res$padj, stc$res$padj,\n",
    "             hpi24i$res$padj, hpi48i$res$padj, hpi72i$res$padj)\n",
    "\n",
    "ds_p <- rapply(ds_v, na_conv, how=\"list\")\n",
    "\n",
    "main_df <- data.frame(\n",
    "    \"rh24\"=ds_p[[1]],\n",
    "    \"rh48\"=ds_p[[2]],\n",
    "    \"rh72\"=ds_p[[3]],\n",
    "    \"sh24\"=ds_p[[4]],\n",
    "    \"sh48\"=ds_p[[5]],\n",
    "    \"sh72\"=ds_p[[6]],\n",
    "    \"rtc\"=ds_p[[7]],\n",
    "    \"stc\"=ds_p[[8]],\n",
    "    \"hpi24i\"=ds_p[[9]],\n",
    "    \"hpi48i\"=ds_p[[10]],\n",
    "    \"hpi72i\"=ds_p[[11]]\n",
    ")\n",
    "\n",
    "#Remove rows containing only NA\n",
    "final_df <- main_df[rowSums(is.na(main_df)) != 11,]\n",
    "\n",
    "nrow(final_df)\n",
    "\n",
    "write.csv(final_df, file=\"DEG.csv\")"
   ]
  },
  {
   "cell_type": "code",
   "execution_count": null,
   "metadata": {
    "collapsed": true
   },
   "outputs": [],
   "source": []
  },
  {
   "cell_type": "markdown",
   "metadata": {},
   "source": [
    "## 3º Question: Which genes are DEG in a control setting between the two hosts"
   ]
  },
  {
   "cell_type": "code",
   "execution_count": null,
   "metadata": {},
   "outputs": [],
   "source": [
    "c24 <- getpair_stats(gdds, \"c24\")"
   ]
  },
  {
   "cell_type": "code",
   "execution_count": null,
   "metadata": {},
   "outputs": [],
   "source": [
    "c48 <- getpair_stats(gdds, \"c48\")"
   ]
  },
  {
   "cell_type": "code",
   "execution_count": null,
   "metadata": {},
   "outputs": [],
   "source": [
    "c72 <- getpair_stats(gdds, \"c72\")"
   ]
  },
  {
   "cell_type": "code",
   "execution_count": null,
   "metadata": {},
   "outputs": [],
   "source": [
    "plotFC(c24$res, \"este\")\n",
    "plotFC(c48$res, \"este\")\n",
    "plotFC(c72$res, \"este\")"
   ]
  },
  {
   "cell_type": "code",
   "execution_count": null,
   "metadata": {
    "collapsed": true
   },
   "outputs": [],
   "source": []
  },
  {
   "cell_type": "code",
   "execution_count": null,
   "metadata": {
    "collapsed": true
   },
   "outputs": [],
   "source": []
  },
  {
   "cell_type": "code",
   "execution_count": null,
   "metadata": {
    "collapsed": true
   },
   "outputs": [],
   "source": []
  },
  {
   "cell_type": "code",
   "execution_count": null,
   "metadata": {
    "collapsed": true
   },
   "outputs": [],
   "source": []
  },
  {
   "cell_type": "code",
   "execution_count": null,
   "metadata": {
    "collapsed": true
   },
   "outputs": [],
   "source": []
  },
  {
   "cell_type": "code",
   "execution_count": null,
   "metadata": {
    "collapsed": true
   },
   "outputs": [],
   "source": []
  },
  {
   "cell_type": "code",
   "execution_count": null,
   "metadata": {
    "collapsed": true
   },
   "outputs": [],
   "source": []
  },
  {
   "cell_type": "code",
   "execution_count": null,
   "metadata": {
    "collapsed": true
   },
   "outputs": [],
   "source": []
  },
  {
   "cell_type": "code",
   "execution_count": null,
   "metadata": {
    "collapsed": true
   },
   "outputs": [],
   "source": []
  },
  {
   "cell_type": "code",
   "execution_count": null,
   "metadata": {
    "collapsed": true
   },
   "outputs": [],
   "source": []
  },
  {
   "cell_type": "code",
   "execution_count": null,
   "metadata": {
    "collapsed": true
   },
   "outputs": [],
   "source": []
  },
  {
   "cell_type": "code",
   "execution_count": null,
   "metadata": {
    "collapsed": true
   },
   "outputs": [],
   "source": []
  },
  {
   "cell_type": "code",
   "execution_count": null,
   "metadata": {
    "collapsed": true
   },
   "outputs": [],
   "source": []
  },
  {
   "cell_type": "code",
   "execution_count": null,
   "metadata": {
    "collapsed": true
   },
   "outputs": [],
   "source": []
  },
  {
   "cell_type": "code",
   "execution_count": null,
   "metadata": {
    "collapsed": true
   },
   "outputs": [],
   "source": []
  },
  {
   "cell_type": "code",
   "execution_count": null,
   "metadata": {
    "collapsed": true
   },
   "outputs": [],
   "source": []
  }
 ],
 "metadata": {
  "kernelspec": {
   "display_name": "R",
   "language": "R",
   "name": "ir"
  },
  "language_info": {
   "codemirror_mode": "r",
   "file_extension": ".r",
   "mimetype": "text/x-r-source",
   "name": "R",
   "pygments_lexer": "r",
   "version": "3.4.3"
  }
 },
 "nbformat": 4,
 "nbformat_minor": 2
}
